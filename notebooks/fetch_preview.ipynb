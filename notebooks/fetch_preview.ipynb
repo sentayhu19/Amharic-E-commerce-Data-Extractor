{
 "cells": [
  {
   "cell_type": "markdown",
   "metadata": {},
   "source": [
    "# Telegram E-commerce Channel Preview\n",
    "Verify credentials by fetching a few recent messages from the predefined channel list."
   ]
  },
  {
   "cell_type": "code",
   "execution_count": 3,
   "metadata": {},
   "outputs": [
    {
     "name": "stdout",
     "output_type": "stream",
     "text": [
      "Using API_ID: 25174306\n"
     ]
    }
   ],
   "source": [
    "import sys, asyncio\n",
    "from pathlib import Path\n",
    "import pandas as pd\n",
    "from pathlib import Path\n",
    "\n",
    "PROJECT_ROOT = Path.cwd().parent\n",
    "sys.path.append(str(PROJECT_ROOT / 'src'))\n",
    "\n",
    "from dotenv import load_dotenv\n",
    "load_dotenv()\n",
    "\n",
    "from telethon import TelegramClient\n",
    "from constants.channels import CHANNEL_USERNAMES\n",
    "from config import API_ID, API_HASH, SESSION_NAME\n",
    "\n",
    "print('Using API_ID:', API_ID)"
   ]
  },
  {
   "cell_type": "code",
   "execution_count": 4,
   "metadata": {},
   "outputs": [
    {
     "name": "stdout",
     "output_type": "stream",
     "text": [
      "\n",
      "=== ZemenExpress ===\n",
      "[ZemenExpress] 2025-06-21 08:07 | \n",
      "[ZemenExpress] 2025-06-21 16:35 | 💥💥...................................💥💥  📌Saachi Electric Kettle  👍Borosilicate Glass Body 👍Overheat protection 👍Automatic switch off 👍2200w  ዋጋ፦  💲🏷 2700  ብር ✅  ♦️ውስን ፍሬ ነው ያለው🔥🔥🔥  🏢 አድራሻ👉  📍♦️#መገናኛ_መሰረት_ደፋር_ሞል_ሁለተኛ_ፎቅ ቢሮ ቁ. S05/S06        💧💧💧💧       📲 0902660722     📲 0928460606   🔖 💬በTelegram ለማዘ\n",
      "[ZemenExpress] 2025-06-21 16:35 | \n",
      "[ZemenExpress] 2025-06-21 16:35 | \n",
      "[ZemenExpress] 2025-06-21 16:35 | \n",
      "----------------------------------------------------------------------\n",
      "\n",
      "=== nevacomputer ===\n",
      "[nevacomputer] 2025-06-11 13:56 | \n",
      "[nevacomputer] 2025-06-21 06:32 | \n",
      "[nevacomputer] 2025-06-21 06:32 | \n",
      "[nevacomputer] 2025-06-21 06:32 | \n",
      "[nevacomputer] 2025-06-21 06:32 | **💻 Dell Precision Workstation**  A powerful performance laptop, ideal for professionals, engineers, and creators.  ⸻  🔷 **Processor (CPU)** **Intel Core i7 – 9th Generation** ⚙️ **8 Cores | 16 Threads** | 🔥 Turbo Boost up to **4.7GHz** ✅ Fast multitasking, great for heavy tasks like CAD, video edit\n",
      "----------------------------------------------------------------------\n",
      "\n",
      "=== qnashcom ===\n",
      "[qnashcom] 2025-06-12 16:10 | 📌🦴 Knife ቢላ   ☄️ High Quality   🥩የስጋ, 🦴 የአጥንት                 💸 **1000__ ብር__**  📣 **ለማዘዝ = **@Orderqnash   ውስን ፍሬ ነው የቀረው ❌❌ Limited Stock ❌  Telegram - t.me/qnashcom 🔼ጥራት ✔️ ዋስትና 🛍 ቅናሽ  🏬 አድራሻ ፦  ቁጥር 1 :- **መገናኛ ዘፍመሽ ግራንድ ሞል 3 ተኛ ፎቅ ቁጥር 329 **  ቁጥር 2 :- **ጀሞ 1 ከለላ ህንፃ ግራውንድ ለይ G07 **  ❌❌ **ማሳሰብያ**\n",
      "[qnashcom] 2025-06-13 11:49 | 📌📣 Silicone Gel Bath Brush  🟢Cleanse and refresh skin with a gentle lather 🟢Also great for household cleaning and scrubbing. 🟢Widened design, intimate double-sided, can be easily extracted with silicone material, which is more convenient 🟢Soft and comfortable foaming, the main squirting out of the m\n",
      "[qnashcom] 2025-06-14 06:30 | 📌📣 Silicone Gel Bath Brush  🟢Cleanse and refresh skin with a gentle lather 🟢Also great for household cleaning and scrubbing. 🟢Widened design, intimate double-sided, can be easily extracted with silicone material, which is more convenient 🟢Soft and comfortable foaming, the main squirting out of the m\n",
      "[qnashcom] 2025-06-14 06:30 | 📌📣 Silicone Gel Bath Brush  🟢Cleanse and refresh skin with a gentle lather 🟢Also great for household cleaning and scrubbing. 🟢Widened design, intimate double-sided, can be easily extracted with silicone material, which is more convenient 🟢Soft and comfortable foaming, the main squirting out of the m\n",
      "[qnashcom] 2025-06-17 08:05 | 🔠🔠🔠🔠🔠🔠 🔠🔠🔠🔠 **ቡና ማፍያ ማሽን** ✔️SKOEDI Single Cup Coffee Maker  SKOEDI⬇️ Single Cup Coffee Maker With removal filter basket  Reusable mesh filter Power button with indicator light  ዋጋ💵፦ **3400 ብር**  ውስን ፍሬ ነው የቀረው ❌❌  Telegram - t.me/qnashcom ⚡️ጥራት 🔼 ዋስትና 🛍 ቅናሽ  🏬 አድራሻ ፦  🗺ቁጥር 1 :- **መገናኛ ዘፍመሽ ግራንድ ሞል \n",
      "----------------------------------------------------------------------\n",
      "\n",
      "=== AwasMart ===\n",
      "[AwasMart] 2025-06-21 07:36 | \n",
      "[AwasMart] 2025-06-21 16:42 | 🍪🍪🍪🍪🍪🍪🍪🍪🍪🍪🍪🍪 ❇️Baby suction bowl  👉 ባለ ሁለት ክፍል የልጆች መመገቢያ ሳህን 👉 እድሜያቸው ከ6ወር ጀምር ላሉ ህፃናት የሚመከር 👉 የራሱ ማንኪያ እና ሹካ ያለው 👉 በአንድ ግዜ 4 አይነት ምግብ ለመመገብ ያስችላል 👉 ከጠረንጴዛ ተንሸራቶ እንዳይወድቅ ማጣበቂያ ያለው 👉BPA free      ዋጋ💵፦  💰 600 ብር  💬በቴሌግራም ለማዘዝ @wamrt1                                    @wamrt2 📍አድራሻችን:- 1️⃣.📌 ሜክሲኮ አልሳ\n",
      "[AwasMart] 2025-06-21 16:43 | \n",
      "[AwasMart] 2025-06-21 16:43 | 🍪🍪🍪🍪🍪🍪🍪🍪🍪🍪🍪🍪 ❇️Baby suction bowl\n",
      "[AwasMart] 2025-06-21 16:43 | 🔖🔖🔖🔖🔖🔖🔖🔖🔖🔖🔖🔖 ውድ ደንበኞቻችን ሱቃችን ነገ እሁድ ከ4:30-11:00 ሰዓት ክፍት መሆኑን በአክብሮት እንገልፃለን።  📍አድራሻችን:- 📌 ቦሌ መድሐኔዓለም ቦሌ መሰናዶ ት/ቤት ፊትለፊት አለምነሽ ፕላዛ ግራውንድ ሱቅ ቁጥር 05   📻(+251941661030 / +251943190237)  👍ለወዳጅዎ ስላጋሩ እናመሠግናለን ☺️  🤪 ቴሌግራም ቻናል t.me/AwasMart  📌📌📌📌📌📌📌📌📌📌📌\n",
      "----------------------------------------------------------------------\n",
      "\n",
      "=== Fashiontera ===\n",
      "[Fashiontera] 2025-06-11 20:11 | 〰️〰️〰️〰️〰️〰️〰️ Under Armur Made in Vietnam  🔸🔸🔸🔸🔸🔸 Size    41,42 Price   3500 (Free Delivery) Inbox @Hiwe5266 ስልክ +251945355266      🔶 ፋሽን ተራ /Fashion Tera 🔶           〰️〰️〰️〰️〰️〰️〰️〰️ አድራሻ: አዲስ አበባ ,ጦር ሀይሎች ድሪም ታወር 2ተኛ ፎቅ  〰️〰️〰️〰️〰️\n",
      "[Fashiontera] 2025-06-13 19:55 | 〰️〰️〰️〰️〰️〰️〰️ Airforce  Made in Vietnam  🔸🔸🔸🔸🔸🔸 Size    40,41,42,43,44 Price   4500 (Free Delivery) Inbox @Hiwe5266 ስልክ +251945355266      🔶 ፋሽን ተራ /Fashion Tera 🔶           〰️〰️〰️〰️〰️〰️〰️〰️ አድራሻ: አዲስ አበባ ,ጦር ሀይሎች ድሪም ታወር 2ተኛ ፎቅ 〰️〰️〰️〰️〰️\n",
      "[Fashiontera] 2025-06-14 13:32 | \n",
      "[Fashiontera] 2025-06-14 13:32 | 〰️〰️〰️〰️〰️〰️〰️ Made in Vietnam  🔸🔸🔸🔸🔸🔸 Size    41,42 Price   3400 (Free Delivery) Inbox @Hiwe5266 ስልክ +251945355266      🔶 ፋሽን ተራ /Fashion Tera 🔶           〰️〰️〰️〰️〰️〰️〰️〰️ አድራሻ: አዲስ አበባ ,ጦር ሀይሎች ድሪም ታወር 2ተኛ ፎቅ 〰️〰️〰️〰️〰️\n",
      "[Fashiontera] 2025-06-18 18:37 | \n",
      "----------------------------------------------------------------------\n",
      "\n",
      "Saved 25 messages to ..\\data\\preview_messages.csv\n"
     ]
    }
   ],
   "source": [
    "client = TelegramClient(f\"{SESSION_NAME}_nb\", API_ID, API_HASH)\n",
    "\n",
    "records: list[dict] = []\n",
    "\n",
    "async def preview_channel(chan: str, limit: int = 1000):\n",
    "    msgs = await client.get_messages(chan, limit=limit)\n",
    "    for m in reversed(msgs):\n",
    "        record = {\n",
    "            \"channel\": chan,\n",
    "            \"date\": m.date,\n",
    "            \"sender_id\": m.sender_id,\n",
    "            \"message_id\": m.id,\n",
    "            \"text\": (m.text or \"\").replace(\"\\n\", \" \"),\n",
    "        }\n",
    "        records.append(record)\n",
    "\n",
    "        date_str = m.date.strftime(\"%Y-%m-%d %H:%M\") if m.date else \"?\"\n",
    "        print(f\"[{chan}] {date_str} | {record['text'][:300]}\")\n",
    "    print(\"-\" * 70)\n",
    "\n",
    "\n",
    "async def main():\n",
    "    await client.start()\n",
    "    for chan in CHANNEL_USERNAMES:\n",
    "        print(f\"\\n=== {chan} ===\")\n",
    "        await preview_channel(chan, limit=5)\n",
    "    await client.disconnect()\n",
    "\n",
    "await main()\n",
    "\n",
    "out_path = Path(\"../data\") / \"preview_messages.csv\"\n",
    "out_path.parent.mkdir(parents=True, exist_ok=True)\n",
    "pd.DataFrame(records).to_csv(out_path, index=False, encoding=\"utf-8\")\n",
    "print(f\"\\nSaved {len(records)} messages to {out_path}\")"
   ]
  }
 ],
 "metadata": {
  "kernelspec": {
   "display_name": "Python 3",
   "language": "python",
   "name": "python3"
  },
  "language_info": {
   "codemirror_mode": {
    "name": "ipython",
    "version": 3
   },
   "file_extension": ".py",
   "mimetype": "text/x-python",
   "name": "python",
   "nbconvert_exporter": "python",
   "pygments_lexer": "ipython3",
   "version": "3.10.0"
  }
 },
 "nbformat": 4,
 "nbformat_minor": 5
}
